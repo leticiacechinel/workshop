{
 "cells": [
  {
   "cell_type": "markdown",
   "id": "f03e8dab-8f78-4ccf-97fe-c3cb1b96d097",
   "metadata": {},
   "source": [
    "# Pandas - Limpeza e Tratamento de Dados\n",
    "\n",
    "<div style=\"text-align: center\">\n",
    "    <img src=\"../images/Pandas_logo.svg.png\" alt=\"\" width=\"400\">\n",
    "</div>\n",
    "\n",
    "\n",
    "Limpar e tratar os dados com Pandas é essencial para garantir a qualidade, precisão e confiabilidade dos resultados. \n",
    "**<span style=\"color: red;\">Dados brutos geralmente contêm erros, valores ausentes e inconsistências que podem afetar as análises e gerar conclusões erradas.</span>**\n",
    "\n",
    "\n",
    "Documentação Pandas:\n",
    "\"https://pandas.pydata.org/docs/\"\n",
    "\n",
    "## DataFrame: ANÁLISE DE ACIDENTES DE TRÂNSITO NO BRASIL\n",
    "\n",
    "Os dados escolhidos foram disponibilizados pela Polícia Rodoviária Federal e compreendem o período entre 2021 e 2024.\n",
    "\n",
    "\n",
    "## Objetivos:\n",
    "- Ler e manipular arquivos;\n",
    " \n",
    "- Limpeza e tratamento dos dados (verificar valores nulos e/ou ausentes, tipagem e formatação dos dados, identificar valores inconsistentes, ...);\n",
    "\n",
    "- Manipular os dados de uma forma geral;\n",
    "\n",
    "- Criar novas variáveis e/ou colunas para análise.\n",
    "\n",
    "## Ações:\n",
    "- Concatenar os DataFrames para criar um único conjunto de dados abrangendo todos os anos;\n",
    "\n",
    "- Salvar o conjunto de dados consolidado.\n",
    "\n",
    "- Extração de informações de data: dia da semana, mês, ano, período do dia (PERIODO DIA).\n",
    "\n",
    "- Cálculo do total de feridos (TOTAL FERIDOS) combinando feridos leves e graves.\n",
    "\n",
    "- Explorar a criação de categorias ou faixas para variáveis contínuas. Por exemplo, podemos extrair o horário dos acidentes, que seria uma coluna com valores contínuos de 0 a 23 e então classificar em categorias como MADRUGADA, MANHÃ, TARDE E NOITE.\n",
    " "
   ]
  },
  {
   "cell_type": "markdown",
   "id": "bc180b4e-db55-4ac3-a8c3-6ca88db5a197",
   "metadata": {},
   "source": [
    "# 1. Introdução\n"
   ]
  },
  {
   "cell_type": "markdown",
   "id": "f250567a-8b11-4a5d-af5b-70c388939e88",
   "metadata": {},
   "source": [
    " ## 1.1 Importando a biblioteca Pandas.\n",
    "\n",
    " ## Por que usar o Pandas?\n",
    "\n",
    "- A biblioteca Pandas é uma poderosa ferramenta para manipulação, análise e visualização de dados estruturados, especialmente tabelas.\n",
    "- A biblioteca Pandas é essencial para limpeza de dados porque fornece ferramentas eficientes para **<span style=\"color: red;\"> manipular, transformar e organizar grandes conjuntos de dados de forma estruturada. <span>**\n",
    "\n",
    "\n"
   ]
  },
  {
   "cell_type": "code",
   "execution_count": 199,
   "id": "619793f0-a378-4162-844a-8c6f5314b587",
   "metadata": {},
   "outputs": [],
   "source": [
    "# Importando a biblioteca Pandas.\n",
    "\n",
    "\n",
    "\n",
    "\n",
    "#import pandas as pd"
   ]
  },
  {
   "cell_type": "code",
   "execution_count": 135,
   "id": "fa623f54-89fd-4f4d-87e9-ddced7c4139e",
   "metadata": {},
   "outputs": [],
   "source": [
    "# Configuração básica para exibir todas as colunas do nosso dataframe.\n",
    "\n",
    "pd.set_option('display.max_columns', None)"
   ]
  },
  {
   "cell_type": "markdown",
   "id": "0cd9a38a-b907-4870-9c96-e23d69c2c5ee",
   "metadata": {},
   "source": [
    "## 1.2. O que é um Dataframe?\n",
    "\n",
    "<div style=\"text-align: center\">\n",
    "    <img src=\"../images/dataframe.jpg\" alt=\"\" width=\"400\">\n",
    "</div>\n",
    "\n",
    "Um DataFrame é uma estrutura de dados bidimensional (tabela) muito poderosa para armazenar, manipular e analisar dados. Ele é como uma planilha ou uma tabela em um banco de dados, contendo linhas e colunas. Cada coluna pode ter um tipo de dado diferente, como números, strings, datas, etc\n",
    "\n",
    "\n"
   ]
  },
  {
   "cell_type": "markdown",
   "id": "605905e3-9881-40cb-996d-ed0e344921e1",
   "metadata": {},
   "source": [
    "## 1.3. Leitura/Escrita de arquivos.\n",
    "\n",
    "A leitura de um arquivo geralmente se refere ao processo de **<span style=\"color: red;\"> importar dados de um arquivo externo (como um arquivo CSV, Excel, ou JSON) para um DataFrame <span>.**\n",
    "\n",
    "<div style=\"text-align: center\">\n",
    "    <img src=\"../images/2write_read.jpg\" alt=\"\" width=\"700\">\n",
    "</div>\n",
    "\n",
    "\n",
    "\n"
   ]
  },
  {
   "cell_type": "code",
   "execution_count": 137,
   "id": "1d3f51bb-59cc-478a-994c-0d62aae10cf6",
   "metadata": {},
   "outputs": [],
   "source": [
    "# Lendo um arquivo .csv\n",
    "\n",
    "\n",
    "\n",
    "\n",
    "\n",
    "#df2021 = pd.read_csv(\"2021.csv\", sep = \";\", encoding = \"ISO-8859-1\")"
   ]
  },
  {
   "cell_type": "markdown",
   "id": "c074e8d4-ce38-4260-96cc-fbf5caa2ef70",
   "metadata": {},
   "source": [
    "## 1.4. Manipulando dados"
   ]
  },
  {
   "cell_type": "code",
   "execution_count": 283,
   "id": "327480c3-2329-4441-b22b-2bbc0cd949b5",
   "metadata": {
    "scrolled": true
   },
   "outputs": [],
   "source": [
    "# Visualizando as primeiras linhas do dataframe.\n",
    "\n",
    "\n",
    "#df2021.head()"
   ]
  },
  {
   "cell_type": "code",
   "execution_count": 284,
   "id": "6eec01a8-a4b9-41b5-8b14-6958e2cbec20",
   "metadata": {},
   "outputs": [],
   "source": [
    "# Visualizando as últimas linhas do dataframe.\n",
    "\n",
    "\n",
    "\n",
    "#df2021.tail()"
   ]
  },
  {
   "cell_type": "code",
   "execution_count": 285,
   "id": "0d3ec4ec-7c31-4b77-b211-9a74ffb9711a",
   "metadata": {},
   "outputs": [],
   "source": [
    "# Selecionando uma coluna do dataframe.\n",
    "\n",
    "\n",
    "\n",
    "#df2021['data_inversa']"
   ]
  },
  {
   "cell_type": "code",
   "execution_count": 286,
   "id": "a4b26a68-a8fe-4611-8fbf-c455ad2e8d4f",
   "metadata": {},
   "outputs": [],
   "source": [
    "# Selecionando mais colunas do dataframe\n",
    "\n",
    "\n",
    "\n",
    "#df2021[[\"municipio\", \"sentido_via\"]]"
   ]
  },
  {
   "cell_type": "code",
   "execution_count": 287,
   "id": "77e6dff0-63b3-41c0-bced-665495957f14",
   "metadata": {},
   "outputs": [],
   "source": [
    "# Selecionando as 10 primeiras linhas específicas de uma coluna.\n",
    "\n",
    "\n",
    "#df2021[\"municipio\"][0:10]"
   ]
  },
  {
   "cell_type": "code",
   "execution_count": 288,
   "id": "ff19e218-a469-4802-95e5-a9afdf4263c1",
   "metadata": {},
   "outputs": [],
   "source": [
    "# Selecionando linhas específicas de várias colunas.\n",
    "\n",
    "\n",
    "#df2021[[\"municipio\", \"sentido_via\"]][100:120]"
   ]
  },
  {
   "cell_type": "code",
   "execution_count": 153,
   "id": "9ec297b1-3bca-419c-9164-3d6dc4ae7430",
   "metadata": {},
   "outputs": [],
   "source": [
    "# Renomeando uma coluna específica.\n",
    "\n",
    "\n",
    "\n",
    "#df2021.rename(columns={\"municipio\":\"cidade\"})"
   ]
  },
  {
   "cell_type": "code",
   "execution_count": 289,
   "id": "f6418210-e772-4a91-b5a1-71bde2aa3cd3",
   "metadata": {},
   "outputs": [],
   "source": [
    "# Renomeando várias colunas.\n",
    "\n",
    "\n",
    "\n",
    "#df2021.rename(columns={\"municipio\":\"cidade\", \"fase_dia\":\"período\"})"
   ]
  },
  {
   "cell_type": "code",
   "execution_count": 290,
   "id": "9572365a-0484-4023-a691-551d3f2fde09",
   "metadata": {},
   "outputs": [],
   "source": [
    "# Renomeando e gravando a alteração.\n",
    "\n",
    "\n",
    "#df2021.rename(columns = {\"municipio\":\"cidade\"}, inplace = True)"
   ]
  },
  {
   "cell_type": "code",
   "execution_count": 291,
   "id": "b55cbc0b-5518-485e-abbf-0bc40ce0d3fa",
   "metadata": {},
   "outputs": [],
   "source": [
    "# Adicionando colunas\n",
    "\n",
    "\n",
    "\n",
    "#df2021[\"coluna_nova\"] = df2021[\"feridos_leves\"] + df2021[\"feridos_graves\"]"
   ]
  },
  {
   "cell_type": "code",
   "execution_count": 292,
   "id": "b1296131-24f7-4839-9ec6-65705edcded0",
   "metadata": {},
   "outputs": [],
   "source": [
    "# Deletando uma coluna.\n",
    "\n",
    "\n",
    "\n",
    "#df2021.drop(columns = \"coluna_nova\")"
   ]
  },
  {
   "cell_type": "markdown",
   "id": "b627cc80-36e9-4c38-94de-560d37ff26d0",
   "metadata": {},
   "source": [
    "# 2. Limpeza e Tratamento dos dados"
   ]
  },
  {
   "cell_type": "markdown",
   "id": "229b7280-f21a-44d8-bc6b-a7a79409928a",
   "metadata": {},
   "source": [
    "## 2.1. Concatenando arquivos"
   ]
  },
  {
   "cell_type": "code",
   "execution_count": 293,
   "id": "6ba5ccd6-3fe4-43cd-86be-55b116caa444",
   "metadata": {},
   "outputs": [],
   "source": [
    "# Fazendo a leitura de todos os arquivos.\n",
    "\n",
    "df2021 = pd.read_csv(\"2021.csv\", sep = \";\", encoding = \"ISO-8859-1\")\n",
    "df2022 = pd.read_csv(\"2022.csv\", sep = \",\", encoding = \"ISO-8859-1\")\n",
    "df2023 = pd.read_csv(\"2023.csv\", sep = \";\", encoding = \"ISO-8859-1\")\n",
    "df2024 = pd.read_csv(\"2024.csv\", sep = \",\")"
   ]
  },
  {
   "cell_type": "code",
   "execution_count": 294,
   "id": "ff6bb23c-1799-40ae-b048-311eeaa894a2",
   "metadata": {},
   "outputs": [],
   "source": [
    "# Verificando a dimensão de um dataframe.\n",
    "\n",
    "#df2021.shape"
   ]
  },
  {
   "cell_type": "code",
   "execution_count": 295,
   "id": "8031283f-b86f-4d04-aa8a-2625a83836ec",
   "metadata": {},
   "outputs": [
    {
     "name": "stdout",
     "output_type": "stream",
     "text": [
      "Dados 2021:(64567, 30)\n",
      "Dados 2022:(64606, 30)\n",
      "Dados 2023:(67766, 30)\n",
      "Dados 2024:(53950, 30)\n"
     ]
    }
   ],
   "source": [
    "print(f'Dados 2021:{df2021.shape}')\n",
    "print(f'Dados 2022:{df2022.shape}')\n",
    "print(f'Dados 2023:{df2023.shape}')\n",
    "print(f'Dados 2024:{df2024.shape}')"
   ]
  },
  {
   "cell_type": "code",
   "execution_count": 296,
   "id": "776353f5-fa15-4d53-b45f-5369d74dca0e",
   "metadata": {},
   "outputs": [],
   "source": [
    "# Concatenando os dataframes.\n",
    "\n",
    "\n",
    "#df_concatenado = pd.concat([df2021, df2022, df2023, df2024])"
   ]
  },
  {
   "cell_type": "code",
   "execution_count": 298,
   "id": "195ddcb5-bea3-414f-b106-d8f21bbf5b82",
   "metadata": {},
   "outputs": [],
   "source": [
    "# Verificando as dimensões do arquivo concatenado.\n",
    "\n",
    "\n",
    "\n",
    "#df_concatenado.shape"
   ]
  },
  {
   "cell_type": "markdown",
   "id": "4d85f911-208c-492d-8612-a3d4a1865c8d",
   "metadata": {},
   "source": [
    "## 2.2. Salvar arquivo como csv.\n",
    "\n",
    "\n",
    "<div style=\"text-align: center\">\n",
    "    <img src=\"../images/2write_read.jpg\" alt=\"\" width=\"700\">\n",
    "</div>\n",
    "\n"
   ]
  },
  {
   "cell_type": "code",
   "execution_count": 299,
   "id": "975f791a-204c-494d-9ec1-c9352f08255d",
   "metadata": {},
   "outputs": [],
   "source": [
    "# Salvando o dataframe como um arquivo csv\n",
    "\n",
    "\n",
    "\n",
    "#df_concatenado.to_csv(\"dados2021_2024.csv\", sep = \";\", index = False)"
   ]
  },
  {
   "cell_type": "markdown",
   "id": "fcf93e73-58ed-41bb-9a36-88a726263bd9",
   "metadata": {},
   "source": [
    "# 3. Limpeza e Tratamento dos dados.\n"
   ]
  },
  {
   "cell_type": "code",
   "execution_count": 301,
   "id": "20c503a3-911c-4e47-8f5f-2689d3199cba",
   "metadata": {},
   "outputs": [],
   "source": [
    "# Leitura de dados.\n",
    "\n",
    "\n",
    "\n",
    "#df = pd.read_csv('dados2021_2024.csv', sep = ';')"
   ]
  },
  {
   "cell_type": "code",
   "execution_count": 302,
   "id": "b93b1809-576a-456d-95ec-1895b801a8e2",
   "metadata": {},
   "outputs": [],
   "source": [
    "# Tipo dos dados\n",
    "\n",
    "\n",
    "\n",
    "#df.dtypes"
   ]
  },
  {
   "cell_type": "markdown",
   "id": "b4b9ea92-ab0c-4dcb-8fa6-5f2d817f4c02",
   "metadata": {},
   "source": [
    "---\n",
    "\n",
    "### .isna()\n",
    "\n",
    "O método .isna() da biblioteca pandas é usado para verificar quais valores em um DataFrame são NaN (Not a Number) ou valores ausentes. Ele retorna um objeto do mesmo formato com valores booleanos:\n",
    "\n",
    "True → indica que o valor está ausente (NaN)\n",
    "\n",
    "False → indica que o valor não está ausente"
   ]
  },
  {
   "cell_type": "code",
   "execution_count": 303,
   "id": "a848792e-4785-4491-94a2-25c8d056e72a",
   "metadata": {},
   "outputs": [],
   "source": [
    "# Verificando valores ausentes e/ou nulos.\n",
    "\n",
    "\n",
    "\n",
    "#df.isna()"
   ]
  },
  {
   "cell_type": "code",
   "execution_count": 304,
   "id": "0fd20e62-9a83-4b8c-8e11-038d2ca93d2a",
   "metadata": {},
   "outputs": [],
   "source": [
    "# Verificando valores ausentes e/ou nulos.\n",
    "\n",
    "\n",
    "#df.isna().sum()"
   ]
  },
  {
   "cell_type": "markdown",
   "id": "72c11e84-50bf-4341-baf8-dca869879554",
   "metadata": {},
   "source": [
    "Colunas com valores ausentes e/ou nulos\n",
    "- classificacao_acidente      4\n",
    "- regional                   23\n",
    "- delegacia                  85\n",
    "- uop                       219"
   ]
  },
  {
   "cell_type": "markdown",
   "id": "39e4b43a-6c08-4d75-8ecb-f9a625683ffe",
   "metadata": {},
   "source": [
    "***\n",
    "### .duplicated()\n",
    "\n",
    "O método duplicated() no pandas identifica linhas duplicadas em um DataFrame. Ele retorna uma series booleana, onde:\n",
    "\n",
    "True → significa que a linha é uma duplicata (exceto a primeira ocorrência).\n",
    "\n",
    "False → significa que a linha não é uma duplicata (ou é a primeira ocorrência)."
   ]
  },
  {
   "cell_type": "code",
   "execution_count": 305,
   "id": "2f263155-9b58-4993-bc43-6954a3de31cb",
   "metadata": {},
   "outputs": [],
   "source": [
    "# Verificando linhas duplicadas.\n",
    "\n",
    "\n",
    "#df.duplicated()"
   ]
  },
  {
   "cell_type": "code",
   "execution_count": 306,
   "id": "c5a59a91-73fd-4702-8fc0-b5484444ca98",
   "metadata": {},
   "outputs": [],
   "source": [
    "# Verificando linhas duplicadas\n",
    "\n",
    "\n",
    "#df[df.duplicated()]"
   ]
  },
  {
   "cell_type": "markdown",
   "id": "c4424d5c-09cf-4cc5-adca-619e62f88c44",
   "metadata": {},
   "source": [
    "## 3.1. Tipagem dos Dados\n",
    "\n",
    "---\n",
    "### .astype()\n",
    "O método .astype() no pandas é usado para converter o tipo de dados de colunas em um DataFrame.\n"
   ]
  },
  {
   "cell_type": "code",
   "execution_count": 307,
   "id": "7a4af7dc-49b3-4c88-b5e4-d16c18ffe9b9",
   "metadata": {},
   "outputs": [],
   "source": [
    "# Verificando o tipo dos dados\n",
    "\n",
    "#df.dtypes"
   ]
  },
  {
   "cell_type": "markdown",
   "id": "217e24f2-1f02-497a-8c8c-f1a52e8fec06",
   "metadata": {},
   "source": [
    "### Coluna:  <font color=\"red\"> id <font>\n",
    "    id(float64) → id(int)"
   ]
  },
  {
   "cell_type": "code",
   "execution_count": 232,
   "id": "bc3c6ecb-826f-4cc7-b49d-31dc5b289827",
   "metadata": {},
   "outputs": [],
   "source": [
    "# Coluna id.\n",
    "\n",
    "\n",
    "#df['id'] = df['id'].astype(int)"
   ]
  },
  {
   "cell_type": "markdown",
   "id": "9e97c0db-f2a2-41bd-ba9f-938ca8b6f7cc",
   "metadata": {},
   "source": [
    "---\n",
    "### to_datetime()\n",
    "\n",
    "Este método é usado para converter dados em formato de data e hora (datetime).\n",
    "\n",
    "### Coluna:  <font color=\"red\"> data_inversa <font>\n",
    "    \n",
    "    data_inversa(object) → data_inversa(datetime)"
   ]
  },
  {
   "cell_type": "code",
   "execution_count": 234,
   "id": "19debb6c-1923-4e24-a720-2f24cba5bd57",
   "metadata": {},
   "outputs": [],
   "source": [
    "# Coluna de data_inversa.\n",
    "\n",
    "\n",
    "#df['data_inversa'] = pd.to_datetime(df['data_inversa'])"
   ]
  },
  {
   "cell_type": "markdown",
   "id": "9a0b3a44-9d85-42e5-9c2b-affb2d85fcad",
   "metadata": {},
   "source": [
    "### Coluna:  <font color=\"red\"> km <font>\n",
    "    km(object) → km(float)"
   ]
  },
  {
   "cell_type": "code",
   "execution_count": 237,
   "id": "53721e67-f062-475c-aabc-5504d3979e7f",
   "metadata": {},
   "outputs": [],
   "source": [
    "# Coluna km trocando ',' por '.'\n",
    "\n",
    "\n",
    "#df['km'] = df['km'].str.replace(',','.')"
   ]
  },
  {
   "cell_type": "code",
   "execution_count": 240,
   "id": "15323361-1c77-43be-b74a-0d597ea42037",
   "metadata": {},
   "outputs": [],
   "source": [
    "# Alterando a tipagem da coluna\n",
    "\n",
    "\n",
    "\n",
    "#df['km'] = df['km'].astype(float)"
   ]
  },
  {
   "cell_type": "markdown",
   "id": "69d64b3d-c7d7-4f03-bbd2-13bdb17c3a0a",
   "metadata": {},
   "source": [
    "### Coluna:  <font color=\"red\"> latitude  <font> e <font color='red'> longitude <font>\n",
    "    latitude(object) → latitude(float);\n",
    "    longitude(object) → longitude(float)."
   ]
  },
  {
   "cell_type": "code",
   "execution_count": 244,
   "id": "84793b9b-1837-4cc6-9c6f-f966a266977b",
   "metadata": {},
   "outputs": [],
   "source": [
    "# Colunas latitude e longitude\n",
    "\n",
    "df['latitude'] = df['latitude'].str.replace(',','.')\n",
    "df['longitude'] = df['longitude'].str.replace(',','.')\n",
    "\n",
    "df['latitude'] = df['latitude'].astype(float)\n",
    "df['longitude'] = df['longitude'].astype(float)"
   ]
  },
  {
   "cell_type": "markdown",
   "id": "e432aee0-dd04-4d26-a022-ef9887121746",
   "metadata": {},
   "source": [
    "## Valores Nulos e/ou Ausentes\n",
    "\n",
    "Colunas com valores ausentes e/ou nulos\n",
    "- classificacao_acidente      4\n",
    "- regional                   23\n",
    "- delegacia                  85\n",
    "- uop                       219\n"
   ]
  },
  {
   "cell_type": "markdown",
   "id": "f35ef059-cde3-4605-bb5d-2fa34ddddc3a",
   "metadata": {},
   "source": [
    "### Coluna: <font color=\"red\"> classificacao_acidente </font>\n",
    "\n",
    "---\n",
    "### .describe()\n",
    "Gera um resumo estatístico dos dados de um DataFrame ou Series. Ele retorna estatísticas descritivas como média, mediana, desvio padrão, valores mínimos e máximos, entre outras.\n",
    "\n"
   ]
  },
  {
   "cell_type": "code",
   "execution_count": 246,
   "id": "cf06c3db-f989-4ef3-9833-08bd215f7107",
   "metadata": {},
   "outputs": [
    {
     "data": {
      "text/plain": [
       "count                  250885\n",
       "unique                      6\n",
       "top       Com Vítimas Feridas\n",
       "freq                   141444\n",
       "Name: classificacao_acidente, dtype: object"
      ]
     },
     "execution_count": 246,
     "metadata": {},
     "output_type": "execute_result"
    }
   ],
   "source": [
    "# Verificando valores.\n",
    "\n",
    "\n",
    "\n",
    "#df['classificacao_acidente'].describe()"
   ]
  },
  {
   "cell_type": "markdown",
   "id": "554f8f80-9716-4c12-b845-5509938d168d",
   "metadata": {},
   "source": [
    "---\n",
    "### .fillna()\n",
    "Usado para preencher valores ausentes (NaN) em um DataFrame ou Series. Ele permite substituir valores NaN por números, strings, médias, valores anteriores ou posteriores, entre outras opções."
   ]
  },
  {
   "cell_type": "code",
   "execution_count": 249,
   "id": "66211610-18aa-4863-a286-31c922d8d1c8",
   "metadata": {},
   "outputs": [],
   "source": [
    "# Trocando valores Nulos ou ausentes pela moda da coluna.\n",
    "\n",
    "\n",
    "\n",
    "#df['classificacao_acidente'] = df['classificacao_acidente'].fillna('Com Vítimas Feridas')"
   ]
  },
  {
   "cell_type": "code",
   "execution_count": 308,
   "id": "1e7432e7-cfc4-47aa-8b3b-fb1a70a6939e",
   "metadata": {},
   "outputs": [],
   "source": [
    "# Verificando a alteração.\n",
    "\n",
    "\n",
    "#df.isna().sum()"
   ]
  },
  {
   "cell_type": "markdown",
   "id": "e1e4f5c9-cd63-415e-9a13-02d5d2fb3b47",
   "metadata": {},
   "source": [
    "### Coluna: <font color=\"red\"> regional </font>\n"
   ]
  },
  {
   "cell_type": "code",
   "execution_count": 309,
   "id": "7b166dd6-f1cc-4801-8671-7e1cc3e3dc61",
   "metadata": {},
   "outputs": [],
   "source": [
    "# Verificando valores.\n",
    "\n",
    "\n",
    "\n",
    "#df['regional'].describe()"
   ]
  },
  {
   "cell_type": "code",
   "execution_count": 254,
   "id": "2d5edf16-d4f9-490e-9b2f-9fdc8f21d1b5",
   "metadata": {},
   "outputs": [],
   "source": [
    "# Excluindo coluna regional.\n",
    "\n",
    "\n",
    "\n",
    "#df = df.drop(columns='regional')"
   ]
  },
  {
   "cell_type": "markdown",
   "id": "e8177844-4787-4bc1-8712-e4c3576c8a20",
   "metadata": {},
   "source": [
    "### Coluna: <font color=\"red\"> delegagia </font>\n"
   ]
  },
  {
   "cell_type": "code",
   "execution_count": 310,
   "id": "398cd7f4-916b-4956-8168-cd19d88fb83c",
   "metadata": {},
   "outputs": [],
   "source": [
    "# Verificando valores.\n",
    "\n",
    "\n",
    "\n",
    "#df['delegacia'].describe()"
   ]
  },
  {
   "cell_type": "markdown",
   "id": "fdfb762c-02a3-44b1-904b-ae57465031d4",
   "metadata": {},
   "source": [
    "A coluna `delegacia` possui 85 valores nulos e/ou ausentes. Como está coluna não irá impactar diretamente em nossa análise, também iremos excluir este coluna"
   ]
  },
  {
   "cell_type": "code",
   "execution_count": 257,
   "id": "6fc57750-70a9-4b0c-9c59-d4011f623ca0",
   "metadata": {},
   "outputs": [],
   "source": [
    "# Excluindo coluna delegacia.\n",
    "\n",
    "\n",
    "\n",
    "#df = df.drop(columns='delegacia')"
   ]
  },
  {
   "cell_type": "markdown",
   "id": "0066b3c6-6cb8-42a3-bac0-ac937eb8140e",
   "metadata": {},
   "source": [
    "### Coluna: <font color=\"red\"> uop </font>"
   ]
  },
  {
   "cell_type": "code",
   "execution_count": 258,
   "id": "a50d0efe-f678-4326-ba78-09b3aa66997e",
   "metadata": {},
   "outputs": [
    {
     "data": {
      "text/plain": [
       "count             250670\n",
       "unique               404\n",
       "top       UOP01-DEL01-SC\n",
       "freq                4088\n",
       "Name: uop, dtype: object"
      ]
     },
     "execution_count": 258,
     "metadata": {},
     "output_type": "execute_result"
    }
   ],
   "source": [
    "# Verificando valores.\n",
    "\n",
    "\n",
    "\n",
    "#df['uop'].describe()"
   ]
  },
  {
   "cell_type": "markdown",
   "id": "b7d28d94-6039-486a-9d8b-a2f7745d5f22",
   "metadata": {},
   "source": [
    "A coluna `uop` possui 219 valores nulos e/ou ausentes. Como está coluna não irá impactar diretamente em nossa análise."
   ]
  },
  {
   "cell_type": "code",
   "execution_count": 259,
   "id": "11664482-3d33-422a-bab7-0c7b32eb2083",
   "metadata": {},
   "outputs": [],
   "source": [
    "# Excluindo coluna uop.\n",
    "\n",
    "\n",
    "\n",
    "#df = df.drop(columns='uop')"
   ]
  },
  {
   "cell_type": "code",
   "execution_count": 311,
   "id": "f55bd6e1-c7c5-4442-b400-46d0703681c2",
   "metadata": {},
   "outputs": [],
   "source": [
    "# Verificando a alteração\n",
    "\n",
    "\n",
    "#df.isna().sum()"
   ]
  },
  {
   "cell_type": "markdown",
   "id": "e715737d-8434-41aa-9357-ccb15ddd9da9",
   "metadata": {},
   "source": [
    "## 4. Engenharia de Atributos"
   ]
  },
  {
   "cell_type": "markdown",
   "id": "90b66bda-a22d-4e79-9e11-bdc8a720e614",
   "metadata": {},
   "source": [
    "- Extração de informações de data: dia da semana, mês, ano, período do dia (PERIODO DIA).\n",
    "\n",
    "- Cálculo do total de feridos (TOTAL FERIDOS) combinando feridos leves e graves.\n",
    "\n",
    "- Explorar a criação de categorias ou faixas para variáveis contínuas. Por exemplo, podemos extrair o horário dos acidentes, que seria uma coluna com valores contínuos de 0 a 23 e então classificar em categorias como MADRUGADA, MANHÃ, TARDE E NOITE.\n",
    " "
   ]
  },
  {
   "cell_type": "markdown",
   "id": "a26ccd90-cf7a-45dd-8b74-426a4632ffff",
   "metadata": {},
   "source": [
    "## Criação de Colunas\n",
    "\n",
    "Colunas:\n",
    "- Ano;\n",
    "- Mês;\n",
    "- Período do dia;\n",
    "- Total de feridos."
   ]
  },
  {
   "cell_type": "code",
   "execution_count": 268,
   "id": "5c2f7e21-2b97-49f5-9b34-da5a5869dc27",
   "metadata": {},
   "outputs": [],
   "source": [
    "# Criando a coluna data_completa (ano, mês, dia e horário) que corresponde a soma das colunas data_inversa e horário.\n",
    "\n",
    "\n",
    "#df['data_completa'] = df['data_inversa'].astype(str) + ' ' + df['horario'].astype(str)"
   ]
  },
  {
   "cell_type": "code",
   "execution_count": 312,
   "id": "7c504605-6a83-4d80-a9d8-320af6abb5a6",
   "metadata": {},
   "outputs": [],
   "source": [
    "# Verificando a alteração\n",
    "\n",
    "#df.dtypes"
   ]
  },
  {
   "cell_type": "code",
   "execution_count": 271,
   "id": "6999b5d2-4973-4bc8-b39f-77851bb6ac4d",
   "metadata": {},
   "outputs": [],
   "source": [
    "# Convertendo a coluna para datetime\n",
    "\n",
    "\n",
    "\n",
    "#df['data_completa'] = pd.to_datetime(df['data_completa'])"
   ]
  },
  {
   "cell_type": "code",
   "execution_count": 273,
   "id": "8a25760d-ec04-489a-94bd-b5c9e6ea9ce3",
   "metadata": {},
   "outputs": [],
   "source": [
    "# Extraindo o ano, mês e hora.\n",
    "\n",
    "\n",
    "\n",
    "\n",
    "\n",
    "#df['Ano'] = df['data_completa'].dt.year\n",
    "#df['mes'] = df['data_completa'].dt.month\n",
    "#df['horas'] = df['data_completa'].dt.hour\n",
    "#df['periodo'] = df['data_completa'].dt.hour"
   ]
  },
  {
   "cell_type": "markdown",
   "id": "ac79c78d-f157-47f9-880c-f5232940a094",
   "metadata": {},
   "source": [
    "### Coluna Mês"
   ]
  },
  {
   "cell_type": "code",
   "execution_count": 275,
   "id": "5f99c651-9e97-4bac-8d55-3605b243fa11",
   "metadata": {},
   "outputs": [],
   "source": [
    "# Criando um dicionário para os meses.\n",
    "\n",
    "dic_mes = {\n",
    "    1:'Janeiro',\n",
    "    2:'Fevereiro',\n",
    "    3:'Março',\n",
    "    4:'Abril',\n",
    "    5:'Maio',\n",
    "    6:'Junho',\n",
    "    7:'Julho',\n",
    "    8:'Agosto',\n",
    "    9:'Setembro',\n",
    "    10:'Outubro',\n",
    "    11:'Novembro',\n",
    "    12:'Dezembro'\n",
    "}\n",
    "\n"
   ]
  },
  {
   "cell_type": "code",
   "execution_count": 276,
   "id": "5f7395ea-afc2-4dc4-9fb2-2ab3641330ab",
   "metadata": {},
   "outputs": [],
   "source": [
    "# Atribuindo valores de meses para coluna mes.\n",
    "\n",
    "\n",
    "#df['mes_string'] = df['mes'].map(dic_mes)"
   ]
  },
  {
   "cell_type": "markdown",
   "id": "c527a652-456a-49e9-a1b9-d9c4172cbd48",
   "metadata": {},
   "source": [
    "### Coluna total_feriados\n",
    "\n",
    "Coluna que contém a soma da coluna `feriados_leves`  e `feriados_graves`"
   ]
  },
  {
   "cell_type": "code",
   "execution_count": 279,
   "id": "37f0dd27-0fc0-4a74-9b7d-dd22bc4a5068",
   "metadata": {},
   "outputs": [],
   "source": [
    "# Criar a nova coluna total_feriados combinando feridos leves e graves\n",
    "\n",
    "\n",
    "\n",
    "#df['total_feridos'] = df['feridos_leves'] + df['feridos_graves']"
   ]
  },
  {
   "cell_type": "markdown",
   "id": "bfbb3d35-3ef8-4a6f-8183-990e554ef1d7",
   "metadata": {},
   "source": [
    "### Coluna Período\n",
    "\n",
    "Coluna com base no horário em que o acidente aconteceu.\n",
    "- 00 até 05 Madrugada;\n",
    "- 06 até 11 Manhã;\n",
    "- 12 até 17 Tarde;\n",
    "- 18 até 23 Noite. "
   ]
  },
  {
   "cell_type": "code",
   "execution_count": 281,
   "id": "8ceeb52d-3eb2-4035-a48e-db90aff2c260",
   "metadata": {},
   "outputs": [],
   "source": [
    "# Criando a coluna período de acordo com o intervalo de horas com relação a cada período do dia.\n",
    "\n",
    "\n",
    "\n",
    "#df['periodo'] = pd.cut(df['horas'], \n",
    "#                             bins = [0, 5, 11, 17, 23],\n",
    " #                            labels = ['Madrugada', 'Manhã', 'Tarde', 'Noite']\n",
    "  #                          )"
   ]
  },
  {
   "cell_type": "code",
   "execution_count": null,
   "id": "186e99cb-24a7-47bc-985c-70280b91ab52",
   "metadata": {},
   "outputs": [],
   "source": []
  },
  {
   "cell_type": "code",
   "execution_count": null,
   "id": "de062116-0de4-4bbd-b4f7-6f48ded9bc68",
   "metadata": {},
   "outputs": [],
   "source": []
  },
  {
   "cell_type": "code",
   "execution_count": null,
   "id": "2a42a4a3-8b22-47ab-8e4c-62ed241e1b41",
   "metadata": {},
   "outputs": [],
   "source": []
  },
  {
   "cell_type": "code",
   "execution_count": null,
   "id": "b52791f8-1599-4fc2-b6c7-2e81f9b5c5c8",
   "metadata": {},
   "outputs": [],
   "source": []
  },
  {
   "cell_type": "code",
   "execution_count": null,
   "id": "eda44cc9-fc5f-4d1b-aa45-48165b8b6d1f",
   "metadata": {},
   "outputs": [],
   "source": []
  },
  {
   "cell_type": "code",
   "execution_count": null,
   "id": "7f0e5b7a-5542-409c-a783-0cec68357fac",
   "metadata": {},
   "outputs": [],
   "source": []
  },
  {
   "cell_type": "code",
   "execution_count": null,
   "id": "97970aaf-2c27-41d6-a1bf-49d1e7bdcfbf",
   "metadata": {},
   "outputs": [],
   "source": []
  },
  {
   "cell_type": "code",
   "execution_count": null,
   "id": "bf807b36-8afe-4566-b99e-df749613e2cf",
   "metadata": {},
   "outputs": [],
   "source": []
  },
  {
   "cell_type": "code",
   "execution_count": null,
   "id": "ab87f12f-4bca-43bc-b0e8-b1c2d878cb63",
   "metadata": {},
   "outputs": [],
   "source": []
  },
  {
   "cell_type": "code",
   "execution_count": null,
   "id": "94574980-6115-466f-bf74-ad90115e5a79",
   "metadata": {},
   "outputs": [],
   "source": []
  },
  {
   "cell_type": "code",
   "execution_count": null,
   "id": "2663e4c4-df87-4368-8af8-59a69a88686f",
   "metadata": {},
   "outputs": [],
   "source": []
  }
 ],
 "metadata": {
  "kernelspec": {
   "display_name": "Python 3 (ipykernel)",
   "language": "python",
   "name": "python3"
  },
  "language_info": {
   "codemirror_mode": {
    "name": "ipython",
    "version": 3
   },
   "file_extension": ".py",
   "mimetype": "text/x-python",
   "name": "python",
   "nbconvert_exporter": "python",
   "pygments_lexer": "ipython3",
   "version": "3.12.7"
  }
 },
 "nbformat": 4,
 "nbformat_minor": 5
}
